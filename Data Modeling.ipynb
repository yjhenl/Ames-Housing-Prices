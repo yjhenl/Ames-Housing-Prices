{
 "cells": [
  {
   "cell_type": "markdown",
   "id": "a3218d4e",
   "metadata": {},
   "source": [
    "## 01 Import Libraries "
   ]
  },
  {
   "cell_type": "code",
   "execution_count": 2,
   "id": "9af0e729",
   "metadata": {},
   "outputs": [],
   "source": [
    "# Data Anlaysis\n",
    "import pandas as pd\n",
    "import numpy as np\n",
    "import os\n",
    "# Visualization\n",
    "import matplotlib\n",
    "import matplotlib.pyplot as plt\n",
    "import seaborn as sns\n",
    "# Machine Learning Algorithms\n",
    "import sklearn\n",
    "from sklearn.model_selection import train_test_split\n",
    "from sklearn.linear_model import LinearRegression\n",
    "from sklearn.metrics import mean_squared_error, r2_score"
   ]
  },
  {
   "cell_type": "code",
   "execution_count": 3,
   "id": "5e8d078a",
   "metadata": {},
   "outputs": [],
   "source": [
    "# Display graphs without calling them specifically\n",
    "%matplotlib inline"
   ]
  },
  {
   "cell_type": "markdown",
   "id": "6f086df9",
   "metadata": {},
   "source": [
    "## 02 Import Data"
   ]
  },
  {
   "cell_type": "code",
   "execution_count": 4,
   "id": "caa8f820",
   "metadata": {},
   "outputs": [],
   "source": [
    "path = r'D:\\Data Analyst\\Task 6.1\\Housing price'"
   ]
  },
  {
   "cell_type": "code",
   "execution_count": 5,
   "id": "277007c3",
   "metadata": {},
   "outputs": [],
   "source": [
    "df = pd.read_csv(os.path.join(path, 'df_new.csv'), index_col = 0)\n",
    "df_SalePrice = pd.read_csv(os.path.join(path, 'SalePrice for regression.csv'), index_col = 0)"
   ]
  },
  {
   "cell_type": "code",
   "execution_count": 6,
   "id": "5bb3bd9c",
   "metadata": {},
   "outputs": [
    {
     "data": {
      "text/html": [
       "<div>\n",
       "<style scoped>\n",
       "    .dataframe tbody tr th:only-of-type {\n",
       "        vertical-align: middle;\n",
       "    }\n",
       "\n",
       "    .dataframe tbody tr th {\n",
       "        vertical-align: top;\n",
       "    }\n",
       "\n",
       "    .dataframe thead th {\n",
       "        text-align: right;\n",
       "    }\n",
       "</style>\n",
       "<table border=\"1\" class=\"dataframe\">\n",
       "  <thead>\n",
       "    <tr style=\"text-align: right;\">\n",
       "      <th></th>\n",
       "      <th>GrLivArea</th>\n",
       "      <th>GarageCars</th>\n",
       "      <th>TotalBsmtSF</th>\n",
       "      <th>FullBath</th>\n",
       "      <th>Log_Price</th>\n",
       "      <th>MSSubClass</th>\n",
       "      <th>MSZoning</th>\n",
       "      <th>LotShape</th>\n",
       "      <th>Neighborhood</th>\n",
       "      <th>BldgType</th>\n",
       "      <th>...</th>\n",
       "      <th>BsmtQual</th>\n",
       "      <th>BsmtExposure</th>\n",
       "      <th>BsmtFinType1</th>\n",
       "      <th>HeatingQC</th>\n",
       "      <th>KitchenQual</th>\n",
       "      <th>PavedDrive</th>\n",
       "      <th>SaleType</th>\n",
       "      <th>SaleCondition</th>\n",
       "      <th>Age</th>\n",
       "      <th>RenovateAge</th>\n",
       "    </tr>\n",
       "  </thead>\n",
       "  <tbody>\n",
       "    <tr>\n",
       "      <th>0</th>\n",
       "      <td>1710</td>\n",
       "      <td>2.0</td>\n",
       "      <td>856.0</td>\n",
       "      <td>2</td>\n",
       "      <td>12.247699</td>\n",
       "      <td>5</td>\n",
       "      <td>3</td>\n",
       "      <td>3</td>\n",
       "      <td>5</td>\n",
       "      <td>0</td>\n",
       "      <td>...</td>\n",
       "      <td>2</td>\n",
       "      <td>4</td>\n",
       "      <td>2</td>\n",
       "      <td>0</td>\n",
       "      <td>2</td>\n",
       "      <td>2</td>\n",
       "      <td>8</td>\n",
       "      <td>4</td>\n",
       "      <td>7</td>\n",
       "      <td>0</td>\n",
       "    </tr>\n",
       "    <tr>\n",
       "      <th>1</th>\n",
       "      <td>1262</td>\n",
       "      <td>2.0</td>\n",
       "      <td>1262.0</td>\n",
       "      <td>2</td>\n",
       "      <td>12.109016</td>\n",
       "      <td>0</td>\n",
       "      <td>3</td>\n",
       "      <td>3</td>\n",
       "      <td>24</td>\n",
       "      <td>0</td>\n",
       "      <td>...</td>\n",
       "      <td>2</td>\n",
       "      <td>1</td>\n",
       "      <td>0</td>\n",
       "      <td>0</td>\n",
       "      <td>3</td>\n",
       "      <td>2</td>\n",
       "      <td>8</td>\n",
       "      <td>4</td>\n",
       "      <td>34</td>\n",
       "      <td>0</td>\n",
       "    </tr>\n",
       "    <tr>\n",
       "      <th>2</th>\n",
       "      <td>1786</td>\n",
       "      <td>2.0</td>\n",
       "      <td>920.0</td>\n",
       "      <td>2</td>\n",
       "      <td>12.317171</td>\n",
       "      <td>5</td>\n",
       "      <td>3</td>\n",
       "      <td>0</td>\n",
       "      <td>5</td>\n",
       "      <td>0</td>\n",
       "      <td>...</td>\n",
       "      <td>2</td>\n",
       "      <td>2</td>\n",
       "      <td>2</td>\n",
       "      <td>0</td>\n",
       "      <td>2</td>\n",
       "      <td>2</td>\n",
       "      <td>8</td>\n",
       "      <td>4</td>\n",
       "      <td>9</td>\n",
       "      <td>1</td>\n",
       "    </tr>\n",
       "    <tr>\n",
       "      <th>3</th>\n",
       "      <td>1717</td>\n",
       "      <td>3.0</td>\n",
       "      <td>756.0</td>\n",
       "      <td>1</td>\n",
       "      <td>11.849405</td>\n",
       "      <td>6</td>\n",
       "      <td>3</td>\n",
       "      <td>0</td>\n",
       "      <td>6</td>\n",
       "      <td>0</td>\n",
       "      <td>...</td>\n",
       "      <td>4</td>\n",
       "      <td>4</td>\n",
       "      <td>0</td>\n",
       "      <td>2</td>\n",
       "      <td>2</td>\n",
       "      <td>2</td>\n",
       "      <td>8</td>\n",
       "      <td>0</td>\n",
       "      <td>95</td>\n",
       "      <td>55</td>\n",
       "    </tr>\n",
       "    <tr>\n",
       "      <th>4</th>\n",
       "      <td>2198</td>\n",
       "      <td>3.0</td>\n",
       "      <td>1145.0</td>\n",
       "      <td>2</td>\n",
       "      <td>12.429220</td>\n",
       "      <td>5</td>\n",
       "      <td>3</td>\n",
       "      <td>0</td>\n",
       "      <td>15</td>\n",
       "      <td>0</td>\n",
       "      <td>...</td>\n",
       "      <td>2</td>\n",
       "      <td>0</td>\n",
       "      <td>2</td>\n",
       "      <td>0</td>\n",
       "      <td>2</td>\n",
       "      <td>2</td>\n",
       "      <td>8</td>\n",
       "      <td>4</td>\n",
       "      <td>10</td>\n",
       "      <td>0</td>\n",
       "    </tr>\n",
       "  </tbody>\n",
       "</table>\n",
       "<p>5 rows × 28 columns</p>\n",
       "</div>"
      ],
      "text/plain": [
       "   GrLivArea  GarageCars  TotalBsmtSF  FullBath  Log_Price  MSSubClass  \\\n",
       "0       1710         2.0        856.0         2  12.247699           5   \n",
       "1       1262         2.0       1262.0         2  12.109016           0   \n",
       "2       1786         2.0        920.0         2  12.317171           5   \n",
       "3       1717         3.0        756.0         1  11.849405           6   \n",
       "4       2198         3.0       1145.0         2  12.429220           5   \n",
       "\n",
       "   MSZoning  LotShape  Neighborhood  BldgType  ...  BsmtQual  BsmtExposure  \\\n",
       "0         3         3             5         0  ...         2             4   \n",
       "1         3         3            24         0  ...         2             1   \n",
       "2         3         0             5         0  ...         2             2   \n",
       "3         3         0             6         0  ...         4             4   \n",
       "4         3         0            15         0  ...         2             0   \n",
       "\n",
       "   BsmtFinType1  HeatingQC  KitchenQual  PavedDrive  SaleType  SaleCondition  \\\n",
       "0             2          0            2           2         8              4   \n",
       "1             0          0            3           2         8              4   \n",
       "2             2          0            2           2         8              4   \n",
       "3             0          2            2           2         8              0   \n",
       "4             2          0            2           2         8              4   \n",
       "\n",
       "   Age  RenovateAge  \n",
       "0    7            0  \n",
       "1   34            0  \n",
       "2    9            1  \n",
       "3   95           55  \n",
       "4   10            0  \n",
       "\n",
       "[5 rows x 28 columns]"
      ]
     },
     "execution_count": 6,
     "metadata": {},
     "output_type": "execute_result"
    }
   ],
   "source": [
    "# Check the imported dataset\n",
    "df.head()"
   ]
  },
  {
   "cell_type": "code",
   "execution_count": 7,
   "id": "1c093b15",
   "metadata": {},
   "outputs": [
    {
     "data": {
      "text/plain": [
       "GrLivArea           0\n",
       "GarageCars          0\n",
       "TotalBsmtSF         0\n",
       "FullBath            0\n",
       "Log_Price        1435\n",
       "MSSubClass          0\n",
       "MSZoning            0\n",
       "LotShape            0\n",
       "Neighborhood        0\n",
       "BldgType            0\n",
       "HouseStyle          0\n",
       "OverallQual         0\n",
       "OverallCond         0\n",
       "RoofStyle           0\n",
       "Exterior2nd         0\n",
       "ExterQual           0\n",
       "ExterCond           0\n",
       "Foundation          0\n",
       "BsmtQual            0\n",
       "BsmtExposure        0\n",
       "BsmtFinType1        0\n",
       "HeatingQC           0\n",
       "KitchenQual         0\n",
       "PavedDrive          0\n",
       "SaleType            0\n",
       "SaleCondition       0\n",
       "Age                 0\n",
       "RenovateAge         0\n",
       "dtype: int64"
      ]
     },
     "execution_count": 7,
     "metadata": {},
     "output_type": "execute_result"
    }
   ],
   "source": [
    "df.isnull().sum()"
   ]
  },
  {
   "cell_type": "code",
   "execution_count": 8,
   "id": "fbf89a9e",
   "metadata": {},
   "outputs": [
    {
     "data": {
      "text/plain": [
       "(2872, 28)"
      ]
     },
     "execution_count": 8,
     "metadata": {},
     "output_type": "execute_result"
    }
   ],
   "source": [
    "df.shape"
   ]
  },
  {
   "cell_type": "code",
   "execution_count": 9,
   "id": "6024363f",
   "metadata": {},
   "outputs": [
    {
     "name": "stdout",
     "output_type": "stream",
     "text": [
      "<class 'pandas.core.frame.DataFrame'>\n",
      "Int64Index: 2872 entries, 0 to 2872\n",
      "Data columns (total 28 columns):\n",
      " #   Column         Non-Null Count  Dtype  \n",
      "---  ------         --------------  -----  \n",
      " 0   GrLivArea      2872 non-null   int64  \n",
      " 1   GarageCars     2872 non-null   float64\n",
      " 2   TotalBsmtSF    2872 non-null   float64\n",
      " 3   FullBath       2872 non-null   int64  \n",
      " 4   Log_Price      1437 non-null   float64\n",
      " 5   MSSubClass     2872 non-null   int64  \n",
      " 6   MSZoning       2872 non-null   int64  \n",
      " 7   LotShape       2872 non-null   int64  \n",
      " 8   Neighborhood   2872 non-null   int64  \n",
      " 9   BldgType       2872 non-null   int64  \n",
      " 10  HouseStyle     2872 non-null   int64  \n",
      " 11  OverallQual    2872 non-null   int64  \n",
      " 12  OverallCond    2872 non-null   int64  \n",
      " 13  RoofStyle      2872 non-null   int64  \n",
      " 14  Exterior2nd    2872 non-null   int64  \n",
      " 15  ExterQual      2872 non-null   int64  \n",
      " 16  ExterCond      2872 non-null   int64  \n",
      " 17  Foundation     2872 non-null   int64  \n",
      " 18  BsmtQual       2872 non-null   int64  \n",
      " 19  BsmtExposure   2872 non-null   int64  \n",
      " 20  BsmtFinType1   2872 non-null   int64  \n",
      " 21  HeatingQC      2872 non-null   int64  \n",
      " 22  KitchenQual    2872 non-null   int64  \n",
      " 23  PavedDrive     2872 non-null   int64  \n",
      " 24  SaleType       2872 non-null   int64  \n",
      " 25  SaleCondition  2872 non-null   int64  \n",
      " 26  Age            2872 non-null   int64  \n",
      " 27  RenovateAge    2872 non-null   int64  \n",
      "dtypes: float64(3), int64(25)\n",
      "memory usage: 650.7 KB\n"
     ]
    }
   ],
   "source": [
    "df.info()"
   ]
  },
  {
   "cell_type": "markdown",
   "id": "ba6aa916",
   "metadata": {},
   "source": [
    "## 03 Feature Scaling"
   ]
  },
  {
   "cell_type": "markdown",
   "id": "8ac4ebbe",
   "metadata": {},
   "source": [
    "###### Split data into training and test data set "
   ]
  },
  {
   "cell_type": "code",
   "execution_count": 10,
   "id": "0596ea55",
   "metadata": {},
   "outputs": [],
   "source": [
    "# Set up test data set \n",
    "df_test = df[df['Log_Price'].isnull() == True]\n",
    "df_test1 = df_test.drop(columns = ['Log_Price'], axis = 1)"
   ]
  },
  {
   "cell_type": "code",
   "execution_count": 11,
   "id": "45aca067",
   "metadata": {},
   "outputs": [
    {
     "data": {
      "text/html": [
       "<div>\n",
       "<style scoped>\n",
       "    .dataframe tbody tr th:only-of-type {\n",
       "        vertical-align: middle;\n",
       "    }\n",
       "\n",
       "    .dataframe tbody tr th {\n",
       "        vertical-align: top;\n",
       "    }\n",
       "\n",
       "    .dataframe thead th {\n",
       "        text-align: right;\n",
       "    }\n",
       "</style>\n",
       "<table border=\"1\" class=\"dataframe\">\n",
       "  <thead>\n",
       "    <tr style=\"text-align: right;\">\n",
       "      <th></th>\n",
       "      <th>GrLivArea</th>\n",
       "      <th>GarageCars</th>\n",
       "      <th>TotalBsmtSF</th>\n",
       "      <th>FullBath</th>\n",
       "      <th>MSSubClass</th>\n",
       "      <th>MSZoning</th>\n",
       "      <th>LotShape</th>\n",
       "      <th>Neighborhood</th>\n",
       "      <th>BldgType</th>\n",
       "      <th>HouseStyle</th>\n",
       "      <th>OverallQual</th>\n",
       "      <th>OverallCond</th>\n",
       "      <th>RoofStyle</th>\n",
       "      <th>Exterior2nd</th>\n",
       "      <th>ExterQual</th>\n",
       "      <th>ExterCond</th>\n",
       "      <th>Foundation</th>\n",
       "      <th>BsmtQual</th>\n",
       "      <th>BsmtExposure</th>\n",
       "      <th>BsmtFinType1</th>\n",
       "      <th>HeatingQC</th>\n",
       "      <th>KitchenQual</th>\n",
       "      <th>PavedDrive</th>\n",
       "      <th>SaleType</th>\n",
       "      <th>SaleCondition</th>\n",
       "      <th>Age</th>\n",
       "      <th>RenovateAge</th>\n",
       "    </tr>\n",
       "  </thead>\n",
       "  <tbody>\n",
       "    <tr>\n",
       "      <th>1437</th>\n",
       "      <td>896</td>\n",
       "      <td>1.0</td>\n",
       "      <td>882.0</td>\n",
       "      <td>1</td>\n",
       "      <td>0</td>\n",
       "      <td>2</td>\n",
       "      <td>3</td>\n",
       "      <td>12</td>\n",
       "      <td>0</td>\n",
       "      <td>2</td>\n",
       "      <td>4</td>\n",
       "      <td>5</td>\n",
       "      <td>1</td>\n",
       "      <td>13</td>\n",
       "      <td>3</td>\n",
       "      <td>4</td>\n",
       "      <td>1</td>\n",
       "      <td>4</td>\n",
       "      <td>4</td>\n",
       "      <td>5</td>\n",
       "      <td>4</td>\n",
       "      <td>3</td>\n",
       "      <td>2</td>\n",
       "      <td>8</td>\n",
       "      <td>4</td>\n",
       "      <td>49</td>\n",
       "      <td>0</td>\n",
       "    </tr>\n",
       "    <tr>\n",
       "      <th>1438</th>\n",
       "      <td>1329</td>\n",
       "      <td>1.0</td>\n",
       "      <td>1329.0</td>\n",
       "      <td>1</td>\n",
       "      <td>0</td>\n",
       "      <td>3</td>\n",
       "      <td>0</td>\n",
       "      <td>12</td>\n",
       "      <td>0</td>\n",
       "      <td>2</td>\n",
       "      <td>5</td>\n",
       "      <td>5</td>\n",
       "      <td>3</td>\n",
       "      <td>14</td>\n",
       "      <td>3</td>\n",
       "      <td>4</td>\n",
       "      <td>1</td>\n",
       "      <td>4</td>\n",
       "      <td>4</td>\n",
       "      <td>0</td>\n",
       "      <td>4</td>\n",
       "      <td>2</td>\n",
       "      <td>2</td>\n",
       "      <td>8</td>\n",
       "      <td>4</td>\n",
       "      <td>52</td>\n",
       "      <td>0</td>\n",
       "    </tr>\n",
       "    <tr>\n",
       "      <th>1439</th>\n",
       "      <td>1629</td>\n",
       "      <td>2.0</td>\n",
       "      <td>928.0</td>\n",
       "      <td>2</td>\n",
       "      <td>5</td>\n",
       "      <td>3</td>\n",
       "      <td>0</td>\n",
       "      <td>8</td>\n",
       "      <td>0</td>\n",
       "      <td>5</td>\n",
       "      <td>4</td>\n",
       "      <td>4</td>\n",
       "      <td>1</td>\n",
       "      <td>13</td>\n",
       "      <td>3</td>\n",
       "      <td>4</td>\n",
       "      <td>2</td>\n",
       "      <td>2</td>\n",
       "      <td>4</td>\n",
       "      <td>2</td>\n",
       "      <td>2</td>\n",
       "      <td>3</td>\n",
       "      <td>2</td>\n",
       "      <td>8</td>\n",
       "      <td>4</td>\n",
       "      <td>13</td>\n",
       "      <td>1</td>\n",
       "    </tr>\n",
       "    <tr>\n",
       "      <th>1440</th>\n",
       "      <td>1604</td>\n",
       "      <td>2.0</td>\n",
       "      <td>926.0</td>\n",
       "      <td>2</td>\n",
       "      <td>5</td>\n",
       "      <td>3</td>\n",
       "      <td>0</td>\n",
       "      <td>8</td>\n",
       "      <td>0</td>\n",
       "      <td>5</td>\n",
       "      <td>5</td>\n",
       "      <td>5</td>\n",
       "      <td>1</td>\n",
       "      <td>13</td>\n",
       "      <td>3</td>\n",
       "      <td>4</td>\n",
       "      <td>2</td>\n",
       "      <td>4</td>\n",
       "      <td>4</td>\n",
       "      <td>2</td>\n",
       "      <td>0</td>\n",
       "      <td>2</td>\n",
       "      <td>2</td>\n",
       "      <td>8</td>\n",
       "      <td>4</td>\n",
       "      <td>12</td>\n",
       "      <td>0</td>\n",
       "    </tr>\n",
       "    <tr>\n",
       "      <th>1441</th>\n",
       "      <td>1280</td>\n",
       "      <td>2.0</td>\n",
       "      <td>1280.0</td>\n",
       "      <td>2</td>\n",
       "      <td>11</td>\n",
       "      <td>3</td>\n",
       "      <td>0</td>\n",
       "      <td>22</td>\n",
       "      <td>4</td>\n",
       "      <td>2</td>\n",
       "      <td>7</td>\n",
       "      <td>4</td>\n",
       "      <td>1</td>\n",
       "      <td>6</td>\n",
       "      <td>2</td>\n",
       "      <td>4</td>\n",
       "      <td>2</td>\n",
       "      <td>2</td>\n",
       "      <td>4</td>\n",
       "      <td>0</td>\n",
       "      <td>0</td>\n",
       "      <td>2</td>\n",
       "      <td>2</td>\n",
       "      <td>8</td>\n",
       "      <td>4</td>\n",
       "      <td>18</td>\n",
       "      <td>0</td>\n",
       "    </tr>\n",
       "  </tbody>\n",
       "</table>\n",
       "</div>"
      ],
      "text/plain": [
       "      GrLivArea  GarageCars  TotalBsmtSF  FullBath  MSSubClass  MSZoning  \\\n",
       "1437        896         1.0        882.0         1           0         2   \n",
       "1438       1329         1.0       1329.0         1           0         3   \n",
       "1439       1629         2.0        928.0         2           5         3   \n",
       "1440       1604         2.0        926.0         2           5         3   \n",
       "1441       1280         2.0       1280.0         2          11         3   \n",
       "\n",
       "      LotShape  Neighborhood  BldgType  HouseStyle  OverallQual  OverallCond  \\\n",
       "1437         3            12         0           2            4            5   \n",
       "1438         0            12         0           2            5            5   \n",
       "1439         0             8         0           5            4            4   \n",
       "1440         0             8         0           5            5            5   \n",
       "1441         0            22         4           2            7            4   \n",
       "\n",
       "      RoofStyle  Exterior2nd  ExterQual  ExterCond  Foundation  BsmtQual  \\\n",
       "1437          1           13          3          4           1         4   \n",
       "1438          3           14          3          4           1         4   \n",
       "1439          1           13          3          4           2         2   \n",
       "1440          1           13          3          4           2         4   \n",
       "1441          1            6          2          4           2         2   \n",
       "\n",
       "      BsmtExposure  BsmtFinType1  HeatingQC  KitchenQual  PavedDrive  \\\n",
       "1437             4             5          4            3           2   \n",
       "1438             4             0          4            2           2   \n",
       "1439             4             2          2            3           2   \n",
       "1440             4             2          0            2           2   \n",
       "1441             4             0          0            2           2   \n",
       "\n",
       "      SaleType  SaleCondition  Age  RenovateAge  \n",
       "1437         8              4   49            0  \n",
       "1438         8              4   52            0  \n",
       "1439         8              4   13            1  \n",
       "1440         8              4   12            0  \n",
       "1441         8              4   18            0  "
      ]
     },
     "execution_count": 11,
     "metadata": {},
     "output_type": "execute_result"
    }
   ],
   "source": [
    "pd.set_option('display.max_columns', None)\n",
    "df_test1.head()"
   ]
  },
  {
   "cell_type": "code",
   "execution_count": 12,
   "id": "2c66c5b9",
   "metadata": {},
   "outputs": [
    {
     "data": {
      "text/plain": [
       "(1435, 27)"
      ]
     },
     "execution_count": 12,
     "metadata": {},
     "output_type": "execute_result"
    }
   ],
   "source": [
    "df_test1.shape"
   ]
  },
  {
   "cell_type": "code",
   "execution_count": 13,
   "id": "d1fa86ad",
   "metadata": {},
   "outputs": [
    {
     "data": {
      "text/plain": [
       "GrLivArea        0\n",
       "GarageCars       0\n",
       "TotalBsmtSF      0\n",
       "FullBath         0\n",
       "MSSubClass       0\n",
       "MSZoning         0\n",
       "LotShape         0\n",
       "Neighborhood     0\n",
       "BldgType         0\n",
       "HouseStyle       0\n",
       "OverallQual      0\n",
       "OverallCond      0\n",
       "RoofStyle        0\n",
       "Exterior2nd      0\n",
       "ExterQual        0\n",
       "ExterCond        0\n",
       "Foundation       0\n",
       "BsmtQual         0\n",
       "BsmtExposure     0\n",
       "BsmtFinType1     0\n",
       "HeatingQC        0\n",
       "KitchenQual      0\n",
       "PavedDrive       0\n",
       "SaleType         0\n",
       "SaleCondition    0\n",
       "Age              0\n",
       "RenovateAge      0\n",
       "dtype: int64"
      ]
     },
     "execution_count": 13,
     "metadata": {},
     "output_type": "execute_result"
    }
   ],
   "source": [
    "df_test1.isnull().sum()"
   ]
  },
  {
   "cell_type": "code",
   "execution_count": 14,
   "id": "31cffea5",
   "metadata": {},
   "outputs": [],
   "source": [
    "# Set up training data set \n",
    "df_train = df[df['Log_Price'].isnull() == False]"
   ]
  },
  {
   "cell_type": "code",
   "execution_count": 15,
   "id": "bb48bd11",
   "metadata": {},
   "outputs": [
    {
     "data": {
      "text/html": [
       "<div>\n",
       "<style scoped>\n",
       "    .dataframe tbody tr th:only-of-type {\n",
       "        vertical-align: middle;\n",
       "    }\n",
       "\n",
       "    .dataframe tbody tr th {\n",
       "        vertical-align: top;\n",
       "    }\n",
       "\n",
       "    .dataframe thead th {\n",
       "        text-align: right;\n",
       "    }\n",
       "</style>\n",
       "<table border=\"1\" class=\"dataframe\">\n",
       "  <thead>\n",
       "    <tr style=\"text-align: right;\">\n",
       "      <th></th>\n",
       "      <th>GrLivArea</th>\n",
       "      <th>GarageCars</th>\n",
       "      <th>TotalBsmtSF</th>\n",
       "      <th>FullBath</th>\n",
       "      <th>Log_Price</th>\n",
       "      <th>MSSubClass</th>\n",
       "      <th>MSZoning</th>\n",
       "      <th>LotShape</th>\n",
       "      <th>Neighborhood</th>\n",
       "      <th>BldgType</th>\n",
       "      <th>HouseStyle</th>\n",
       "      <th>OverallQual</th>\n",
       "      <th>OverallCond</th>\n",
       "      <th>RoofStyle</th>\n",
       "      <th>Exterior2nd</th>\n",
       "      <th>ExterQual</th>\n",
       "      <th>ExterCond</th>\n",
       "      <th>Foundation</th>\n",
       "      <th>BsmtQual</th>\n",
       "      <th>BsmtExposure</th>\n",
       "      <th>BsmtFinType1</th>\n",
       "      <th>HeatingQC</th>\n",
       "      <th>KitchenQual</th>\n",
       "      <th>PavedDrive</th>\n",
       "      <th>SaleType</th>\n",
       "      <th>SaleCondition</th>\n",
       "      <th>Age</th>\n",
       "      <th>RenovateAge</th>\n",
       "    </tr>\n",
       "  </thead>\n",
       "  <tbody>\n",
       "    <tr>\n",
       "      <th>0</th>\n",
       "      <td>1710</td>\n",
       "      <td>2.0</td>\n",
       "      <td>856.0</td>\n",
       "      <td>2</td>\n",
       "      <td>12.247699</td>\n",
       "      <td>5</td>\n",
       "      <td>3</td>\n",
       "      <td>3</td>\n",
       "      <td>5</td>\n",
       "      <td>0</td>\n",
       "      <td>5</td>\n",
       "      <td>6</td>\n",
       "      <td>4</td>\n",
       "      <td>1</td>\n",
       "      <td>13</td>\n",
       "      <td>2</td>\n",
       "      <td>4</td>\n",
       "      <td>2</td>\n",
       "      <td>2</td>\n",
       "      <td>4</td>\n",
       "      <td>2</td>\n",
       "      <td>0</td>\n",
       "      <td>2</td>\n",
       "      <td>2</td>\n",
       "      <td>8</td>\n",
       "      <td>4</td>\n",
       "      <td>7</td>\n",
       "      <td>0</td>\n",
       "    </tr>\n",
       "    <tr>\n",
       "      <th>1</th>\n",
       "      <td>1262</td>\n",
       "      <td>2.0</td>\n",
       "      <td>1262.0</td>\n",
       "      <td>2</td>\n",
       "      <td>12.109016</td>\n",
       "      <td>0</td>\n",
       "      <td>3</td>\n",
       "      <td>3</td>\n",
       "      <td>24</td>\n",
       "      <td>0</td>\n",
       "      <td>2</td>\n",
       "      <td>5</td>\n",
       "      <td>7</td>\n",
       "      <td>1</td>\n",
       "      <td>8</td>\n",
       "      <td>3</td>\n",
       "      <td>4</td>\n",
       "      <td>1</td>\n",
       "      <td>2</td>\n",
       "      <td>1</td>\n",
       "      <td>0</td>\n",
       "      <td>0</td>\n",
       "      <td>3</td>\n",
       "      <td>2</td>\n",
       "      <td>8</td>\n",
       "      <td>4</td>\n",
       "      <td>34</td>\n",
       "      <td>0</td>\n",
       "    </tr>\n",
       "    <tr>\n",
       "      <th>2</th>\n",
       "      <td>1786</td>\n",
       "      <td>2.0</td>\n",
       "      <td>920.0</td>\n",
       "      <td>2</td>\n",
       "      <td>12.317171</td>\n",
       "      <td>5</td>\n",
       "      <td>3</td>\n",
       "      <td>0</td>\n",
       "      <td>5</td>\n",
       "      <td>0</td>\n",
       "      <td>5</td>\n",
       "      <td>6</td>\n",
       "      <td>4</td>\n",
       "      <td>1</td>\n",
       "      <td>13</td>\n",
       "      <td>2</td>\n",
       "      <td>4</td>\n",
       "      <td>2</td>\n",
       "      <td>2</td>\n",
       "      <td>2</td>\n",
       "      <td>2</td>\n",
       "      <td>0</td>\n",
       "      <td>2</td>\n",
       "      <td>2</td>\n",
       "      <td>8</td>\n",
       "      <td>4</td>\n",
       "      <td>9</td>\n",
       "      <td>1</td>\n",
       "    </tr>\n",
       "    <tr>\n",
       "      <th>3</th>\n",
       "      <td>1717</td>\n",
       "      <td>3.0</td>\n",
       "      <td>756.0</td>\n",
       "      <td>1</td>\n",
       "      <td>11.849405</td>\n",
       "      <td>6</td>\n",
       "      <td>3</td>\n",
       "      <td>0</td>\n",
       "      <td>6</td>\n",
       "      <td>0</td>\n",
       "      <td>5</td>\n",
       "      <td>6</td>\n",
       "      <td>4</td>\n",
       "      <td>1</td>\n",
       "      <td>15</td>\n",
       "      <td>3</td>\n",
       "      <td>4</td>\n",
       "      <td>0</td>\n",
       "      <td>4</td>\n",
       "      <td>4</td>\n",
       "      <td>0</td>\n",
       "      <td>2</td>\n",
       "      <td>2</td>\n",
       "      <td>2</td>\n",
       "      <td>8</td>\n",
       "      <td>0</td>\n",
       "      <td>95</td>\n",
       "      <td>55</td>\n",
       "    </tr>\n",
       "    <tr>\n",
       "      <th>4</th>\n",
       "      <td>2198</td>\n",
       "      <td>3.0</td>\n",
       "      <td>1145.0</td>\n",
       "      <td>2</td>\n",
       "      <td>12.429220</td>\n",
       "      <td>5</td>\n",
       "      <td>3</td>\n",
       "      <td>0</td>\n",
       "      <td>15</td>\n",
       "      <td>0</td>\n",
       "      <td>5</td>\n",
       "      <td>7</td>\n",
       "      <td>4</td>\n",
       "      <td>1</td>\n",
       "      <td>13</td>\n",
       "      <td>2</td>\n",
       "      <td>4</td>\n",
       "      <td>2</td>\n",
       "      <td>2</td>\n",
       "      <td>0</td>\n",
       "      <td>2</td>\n",
       "      <td>0</td>\n",
       "      <td>2</td>\n",
       "      <td>2</td>\n",
       "      <td>8</td>\n",
       "      <td>4</td>\n",
       "      <td>10</td>\n",
       "      <td>0</td>\n",
       "    </tr>\n",
       "  </tbody>\n",
       "</table>\n",
       "</div>"
      ],
      "text/plain": [
       "   GrLivArea  GarageCars  TotalBsmtSF  FullBath  Log_Price  MSSubClass  \\\n",
       "0       1710         2.0        856.0         2  12.247699           5   \n",
       "1       1262         2.0       1262.0         2  12.109016           0   \n",
       "2       1786         2.0        920.0         2  12.317171           5   \n",
       "3       1717         3.0        756.0         1  11.849405           6   \n",
       "4       2198         3.0       1145.0         2  12.429220           5   \n",
       "\n",
       "   MSZoning  LotShape  Neighborhood  BldgType  HouseStyle  OverallQual  \\\n",
       "0         3         3             5         0           5            6   \n",
       "1         3         3            24         0           2            5   \n",
       "2         3         0             5         0           5            6   \n",
       "3         3         0             6         0           5            6   \n",
       "4         3         0            15         0           5            7   \n",
       "\n",
       "   OverallCond  RoofStyle  Exterior2nd  ExterQual  ExterCond  Foundation  \\\n",
       "0            4          1           13          2          4           2   \n",
       "1            7          1            8          3          4           1   \n",
       "2            4          1           13          2          4           2   \n",
       "3            4          1           15          3          4           0   \n",
       "4            4          1           13          2          4           2   \n",
       "\n",
       "   BsmtQual  BsmtExposure  BsmtFinType1  HeatingQC  KitchenQual  PavedDrive  \\\n",
       "0         2             4             2          0            2           2   \n",
       "1         2             1             0          0            3           2   \n",
       "2         2             2             2          0            2           2   \n",
       "3         4             4             0          2            2           2   \n",
       "4         2             0             2          0            2           2   \n",
       "\n",
       "   SaleType  SaleCondition  Age  RenovateAge  \n",
       "0         8              4    7            0  \n",
       "1         8              4   34            0  \n",
       "2         8              4    9            1  \n",
       "3         8              0   95           55  \n",
       "4         8              4   10            0  "
      ]
     },
     "execution_count": 15,
     "metadata": {},
     "output_type": "execute_result"
    }
   ],
   "source": [
    "df_train.head()"
   ]
  },
  {
   "cell_type": "code",
   "execution_count": 16,
   "id": "392ca73f",
   "metadata": {},
   "outputs": [
    {
     "data": {
      "text/plain": [
       "(1437, 28)"
      ]
     },
     "execution_count": 16,
     "metadata": {},
     "output_type": "execute_result"
    }
   ],
   "source": [
    "df_train.shape"
   ]
  },
  {
   "cell_type": "code",
   "execution_count": 17,
   "id": "3b57e117",
   "metadata": {},
   "outputs": [],
   "source": [
    "# Prepare a dataset for training output\n",
    "df_train_y = df_train[['Log_Price']]"
   ]
  },
  {
   "cell_type": "code",
   "execution_count": 18,
   "id": "e52f73ae",
   "metadata": {},
   "outputs": [
    {
     "data": {
      "text/html": [
       "<div>\n",
       "<style scoped>\n",
       "    .dataframe tbody tr th:only-of-type {\n",
       "        vertical-align: middle;\n",
       "    }\n",
       "\n",
       "    .dataframe tbody tr th {\n",
       "        vertical-align: top;\n",
       "    }\n",
       "\n",
       "    .dataframe thead th {\n",
       "        text-align: right;\n",
       "    }\n",
       "</style>\n",
       "<table border=\"1\" class=\"dataframe\">\n",
       "  <thead>\n",
       "    <tr style=\"text-align: right;\">\n",
       "      <th></th>\n",
       "      <th>Log_Price</th>\n",
       "    </tr>\n",
       "  </thead>\n",
       "  <tbody>\n",
       "    <tr>\n",
       "      <th>0</th>\n",
       "      <td>12.247699</td>\n",
       "    </tr>\n",
       "    <tr>\n",
       "      <th>1</th>\n",
       "      <td>12.109016</td>\n",
       "    </tr>\n",
       "    <tr>\n",
       "      <th>2</th>\n",
       "      <td>12.317171</td>\n",
       "    </tr>\n",
       "    <tr>\n",
       "      <th>3</th>\n",
       "      <td>11.849405</td>\n",
       "    </tr>\n",
       "    <tr>\n",
       "      <th>4</th>\n",
       "      <td>12.429220</td>\n",
       "    </tr>\n",
       "    <tr>\n",
       "      <th>...</th>\n",
       "      <td>...</td>\n",
       "    </tr>\n",
       "    <tr>\n",
       "      <th>1432</th>\n",
       "      <td>12.072547</td>\n",
       "    </tr>\n",
       "    <tr>\n",
       "      <th>1433</th>\n",
       "      <td>12.254868</td>\n",
       "    </tr>\n",
       "    <tr>\n",
       "      <th>1434</th>\n",
       "      <td>12.493133</td>\n",
       "    </tr>\n",
       "    <tr>\n",
       "      <th>1435</th>\n",
       "      <td>11.864469</td>\n",
       "    </tr>\n",
       "    <tr>\n",
       "      <th>1436</th>\n",
       "      <td>11.901590</td>\n",
       "    </tr>\n",
       "  </tbody>\n",
       "</table>\n",
       "<p>1437 rows × 1 columns</p>\n",
       "</div>"
      ],
      "text/plain": [
       "      Log_Price\n",
       "0     12.247699\n",
       "1     12.109016\n",
       "2     12.317171\n",
       "3     11.849405\n",
       "4     12.429220\n",
       "...         ...\n",
       "1432  12.072547\n",
       "1433  12.254868\n",
       "1434  12.493133\n",
       "1435  11.864469\n",
       "1436  11.901590\n",
       "\n",
       "[1437 rows x 1 columns]"
      ]
     },
     "execution_count": 18,
     "metadata": {},
     "output_type": "execute_result"
    }
   ],
   "source": [
    "df_train_y"
   ]
  },
  {
   "cell_type": "code",
   "execution_count": 19,
   "id": "fc73a61b",
   "metadata": {},
   "outputs": [],
   "source": [
    "# Prepare a dataset for training input\n",
    "df_train_x = df_train.drop(columns = ['Log_Price'], inplace = False)"
   ]
  },
  {
   "cell_type": "code",
   "execution_count": 20,
   "id": "acfbd3bc",
   "metadata": {},
   "outputs": [
    {
     "data": {
      "text/html": [
       "<div>\n",
       "<style scoped>\n",
       "    .dataframe tbody tr th:only-of-type {\n",
       "        vertical-align: middle;\n",
       "    }\n",
       "\n",
       "    .dataframe tbody tr th {\n",
       "        vertical-align: top;\n",
       "    }\n",
       "\n",
       "    .dataframe thead th {\n",
       "        text-align: right;\n",
       "    }\n",
       "</style>\n",
       "<table border=\"1\" class=\"dataframe\">\n",
       "  <thead>\n",
       "    <tr style=\"text-align: right;\">\n",
       "      <th></th>\n",
       "      <th>GrLivArea</th>\n",
       "      <th>GarageCars</th>\n",
       "      <th>TotalBsmtSF</th>\n",
       "      <th>FullBath</th>\n",
       "      <th>MSSubClass</th>\n",
       "      <th>MSZoning</th>\n",
       "      <th>LotShape</th>\n",
       "      <th>Neighborhood</th>\n",
       "      <th>BldgType</th>\n",
       "      <th>HouseStyle</th>\n",
       "      <th>OverallQual</th>\n",
       "      <th>OverallCond</th>\n",
       "      <th>RoofStyle</th>\n",
       "      <th>Exterior2nd</th>\n",
       "      <th>ExterQual</th>\n",
       "      <th>ExterCond</th>\n",
       "      <th>Foundation</th>\n",
       "      <th>BsmtQual</th>\n",
       "      <th>BsmtExposure</th>\n",
       "      <th>BsmtFinType1</th>\n",
       "      <th>HeatingQC</th>\n",
       "      <th>KitchenQual</th>\n",
       "      <th>PavedDrive</th>\n",
       "      <th>SaleType</th>\n",
       "      <th>SaleCondition</th>\n",
       "      <th>Age</th>\n",
       "      <th>RenovateAge</th>\n",
       "    </tr>\n",
       "  </thead>\n",
       "  <tbody>\n",
       "    <tr>\n",
       "      <th>0</th>\n",
       "      <td>1710</td>\n",
       "      <td>2.0</td>\n",
       "      <td>856.0</td>\n",
       "      <td>2</td>\n",
       "      <td>5</td>\n",
       "      <td>3</td>\n",
       "      <td>3</td>\n",
       "      <td>5</td>\n",
       "      <td>0</td>\n",
       "      <td>5</td>\n",
       "      <td>6</td>\n",
       "      <td>4</td>\n",
       "      <td>1</td>\n",
       "      <td>13</td>\n",
       "      <td>2</td>\n",
       "      <td>4</td>\n",
       "      <td>2</td>\n",
       "      <td>2</td>\n",
       "      <td>4</td>\n",
       "      <td>2</td>\n",
       "      <td>0</td>\n",
       "      <td>2</td>\n",
       "      <td>2</td>\n",
       "      <td>8</td>\n",
       "      <td>4</td>\n",
       "      <td>7</td>\n",
       "      <td>0</td>\n",
       "    </tr>\n",
       "    <tr>\n",
       "      <th>1</th>\n",
       "      <td>1262</td>\n",
       "      <td>2.0</td>\n",
       "      <td>1262.0</td>\n",
       "      <td>2</td>\n",
       "      <td>0</td>\n",
       "      <td>3</td>\n",
       "      <td>3</td>\n",
       "      <td>24</td>\n",
       "      <td>0</td>\n",
       "      <td>2</td>\n",
       "      <td>5</td>\n",
       "      <td>7</td>\n",
       "      <td>1</td>\n",
       "      <td>8</td>\n",
       "      <td>3</td>\n",
       "      <td>4</td>\n",
       "      <td>1</td>\n",
       "      <td>2</td>\n",
       "      <td>1</td>\n",
       "      <td>0</td>\n",
       "      <td>0</td>\n",
       "      <td>3</td>\n",
       "      <td>2</td>\n",
       "      <td>8</td>\n",
       "      <td>4</td>\n",
       "      <td>34</td>\n",
       "      <td>0</td>\n",
       "    </tr>\n",
       "    <tr>\n",
       "      <th>2</th>\n",
       "      <td>1786</td>\n",
       "      <td>2.0</td>\n",
       "      <td>920.0</td>\n",
       "      <td>2</td>\n",
       "      <td>5</td>\n",
       "      <td>3</td>\n",
       "      <td>0</td>\n",
       "      <td>5</td>\n",
       "      <td>0</td>\n",
       "      <td>5</td>\n",
       "      <td>6</td>\n",
       "      <td>4</td>\n",
       "      <td>1</td>\n",
       "      <td>13</td>\n",
       "      <td>2</td>\n",
       "      <td>4</td>\n",
       "      <td>2</td>\n",
       "      <td>2</td>\n",
       "      <td>2</td>\n",
       "      <td>2</td>\n",
       "      <td>0</td>\n",
       "      <td>2</td>\n",
       "      <td>2</td>\n",
       "      <td>8</td>\n",
       "      <td>4</td>\n",
       "      <td>9</td>\n",
       "      <td>1</td>\n",
       "    </tr>\n",
       "    <tr>\n",
       "      <th>3</th>\n",
       "      <td>1717</td>\n",
       "      <td>3.0</td>\n",
       "      <td>756.0</td>\n",
       "      <td>1</td>\n",
       "      <td>6</td>\n",
       "      <td>3</td>\n",
       "      <td>0</td>\n",
       "      <td>6</td>\n",
       "      <td>0</td>\n",
       "      <td>5</td>\n",
       "      <td>6</td>\n",
       "      <td>4</td>\n",
       "      <td>1</td>\n",
       "      <td>15</td>\n",
       "      <td>3</td>\n",
       "      <td>4</td>\n",
       "      <td>0</td>\n",
       "      <td>4</td>\n",
       "      <td>4</td>\n",
       "      <td>0</td>\n",
       "      <td>2</td>\n",
       "      <td>2</td>\n",
       "      <td>2</td>\n",
       "      <td>8</td>\n",
       "      <td>0</td>\n",
       "      <td>95</td>\n",
       "      <td>55</td>\n",
       "    </tr>\n",
       "    <tr>\n",
       "      <th>4</th>\n",
       "      <td>2198</td>\n",
       "      <td>3.0</td>\n",
       "      <td>1145.0</td>\n",
       "      <td>2</td>\n",
       "      <td>5</td>\n",
       "      <td>3</td>\n",
       "      <td>0</td>\n",
       "      <td>15</td>\n",
       "      <td>0</td>\n",
       "      <td>5</td>\n",
       "      <td>7</td>\n",
       "      <td>4</td>\n",
       "      <td>1</td>\n",
       "      <td>13</td>\n",
       "      <td>2</td>\n",
       "      <td>4</td>\n",
       "      <td>2</td>\n",
       "      <td>2</td>\n",
       "      <td>0</td>\n",
       "      <td>2</td>\n",
       "      <td>0</td>\n",
       "      <td>2</td>\n",
       "      <td>2</td>\n",
       "      <td>8</td>\n",
       "      <td>4</td>\n",
       "      <td>10</td>\n",
       "      <td>0</td>\n",
       "    </tr>\n",
       "  </tbody>\n",
       "</table>\n",
       "</div>"
      ],
      "text/plain": [
       "   GrLivArea  GarageCars  TotalBsmtSF  FullBath  MSSubClass  MSZoning  \\\n",
       "0       1710         2.0        856.0         2           5         3   \n",
       "1       1262         2.0       1262.0         2           0         3   \n",
       "2       1786         2.0        920.0         2           5         3   \n",
       "3       1717         3.0        756.0         1           6         3   \n",
       "4       2198         3.0       1145.0         2           5         3   \n",
       "\n",
       "   LotShape  Neighborhood  BldgType  HouseStyle  OverallQual  OverallCond  \\\n",
       "0         3             5         0           5            6            4   \n",
       "1         3            24         0           2            5            7   \n",
       "2         0             5         0           5            6            4   \n",
       "3         0             6         0           5            6            4   \n",
       "4         0            15         0           5            7            4   \n",
       "\n",
       "   RoofStyle  Exterior2nd  ExterQual  ExterCond  Foundation  BsmtQual  \\\n",
       "0          1           13          2          4           2         2   \n",
       "1          1            8          3          4           1         2   \n",
       "2          1           13          2          4           2         2   \n",
       "3          1           15          3          4           0         4   \n",
       "4          1           13          2          4           2         2   \n",
       "\n",
       "   BsmtExposure  BsmtFinType1  HeatingQC  KitchenQual  PavedDrive  SaleType  \\\n",
       "0             4             2          0            2           2         8   \n",
       "1             1             0          0            3           2         8   \n",
       "2             2             2          0            2           2         8   \n",
       "3             4             0          2            2           2         8   \n",
       "4             0             2          0            2           2         8   \n",
       "\n",
       "   SaleCondition  Age  RenovateAge  \n",
       "0              4    7            0  \n",
       "1              4   34            0  \n",
       "2              4    9            1  \n",
       "3              0   95           55  \n",
       "4              4   10            0  "
      ]
     },
     "execution_count": 20,
     "metadata": {},
     "output_type": "execute_result"
    }
   ],
   "source": [
    "df_train_x.head()"
   ]
  },
  {
   "cell_type": "code",
   "execution_count": 21,
   "id": "360bf77f",
   "metadata": {},
   "outputs": [],
   "source": [
    "# Split data into a training set and a test set\n",
    "\n",
    "X_train, X_var, y_train, y_var = train_test_split(df_train_x, df_train_y, test_size = 0.3, random_state = 0) "
   ]
  },
  {
   "cell_type": "code",
   "execution_count": 22,
   "id": "84550523",
   "metadata": {},
   "outputs": [
    {
     "data": {
      "text/plain": [
       "(1005, 27)"
      ]
     },
     "execution_count": 22,
     "metadata": {},
     "output_type": "execute_result"
    }
   ],
   "source": [
    "X_train.shape"
   ]
  },
  {
   "cell_type": "code",
   "execution_count": 23,
   "id": "ace340bf",
   "metadata": {},
   "outputs": [
    {
     "data": {
      "text/plain": [
       "(432, 27)"
      ]
     },
     "execution_count": 23,
     "metadata": {},
     "output_type": "execute_result"
    }
   ],
   "source": [
    "X_var.shape"
   ]
  },
  {
   "cell_type": "code",
   "execution_count": 24,
   "id": "4c8bfd14",
   "metadata": {},
   "outputs": [
    {
     "data": {
      "text/plain": [
       "(1005, 1)"
      ]
     },
     "execution_count": 24,
     "metadata": {},
     "output_type": "execute_result"
    }
   ],
   "source": [
    "y_train.shape"
   ]
  },
  {
   "cell_type": "code",
   "execution_count": 25,
   "id": "9c16607c",
   "metadata": {},
   "outputs": [
    {
     "data": {
      "text/plain": [
       "(432, 1)"
      ]
     },
     "execution_count": 25,
     "metadata": {},
     "output_type": "execute_result"
    }
   ],
   "source": [
    "y_var.shape"
   ]
  },
  {
   "cell_type": "markdown",
   "id": "54780c85",
   "metadata": {},
   "source": [
    "###### Regression Analysis"
   ]
  },
  {
   "cell_type": "code",
   "execution_count": 26,
   "id": "1348d577",
   "metadata": {},
   "outputs": [],
   "source": [
    "# Standardize features for training data\n",
    "from sklearn.preprocessing import StandardScaler\n",
    "\n",
    "sc = StandardScaler()\n",
    "X_train_sc = sc.fit_transform(X_train)"
   ]
  },
  {
   "cell_type": "code",
   "execution_count": 27,
   "id": "e432197f",
   "metadata": {},
   "outputs": [
    {
     "data": {
      "text/plain": [
       "array([[-1.44557638, -2.357158  , -0.62584129, ...,  0.20024589,\n",
       "         1.56383152,  0.52459384],\n",
       "       [-0.04292257, -0.99803936, -0.69240606, ...,  0.20024589,\n",
       "        -0.18755062, -0.55432289],\n",
       "       [ 0.30012879, -0.99803936, -0.76390155, ...,  0.20024589,\n",
       "         0.96902249,  1.64500738],\n",
       "       ...,\n",
       "       [ 0.94969351, -2.357158  , -0.24124485, ..., -3.42582829,\n",
       "         1.99341582,  1.06405221],\n",
       "       [-1.2831852 , -0.99803936, -0.42861235, ..., -3.42582829,\n",
       "         0.40725841, -0.55432289],\n",
       "       [-0.70669652, -0.99803936, -0.14263038, ...,  0.20024589,\n",
       "         0.63857303, -0.55432289]])"
      ]
     },
     "execution_count": 27,
     "metadata": {},
     "output_type": "execute_result"
    }
   ],
   "source": [
    "X_train_sc"
   ]
  },
  {
   "cell_type": "code",
   "execution_count": 28,
   "id": "4781c859",
   "metadata": {},
   "outputs": [
    {
     "data": {
      "text/html": [
       "<div>\n",
       "<style scoped>\n",
       "    .dataframe tbody tr th:only-of-type {\n",
       "        vertical-align: middle;\n",
       "    }\n",
       "\n",
       "    .dataframe tbody tr th {\n",
       "        vertical-align: top;\n",
       "    }\n",
       "\n",
       "    .dataframe thead th {\n",
       "        text-align: right;\n",
       "    }\n",
       "</style>\n",
       "<table border=\"1\" class=\"dataframe\">\n",
       "  <thead>\n",
       "    <tr style=\"text-align: right;\">\n",
       "      <th></th>\n",
       "      <th>Log_Price</th>\n",
       "    </tr>\n",
       "  </thead>\n",
       "  <tbody>\n",
       "    <tr>\n",
       "      <th>811</th>\n",
       "      <td>11.603689</td>\n",
       "    </tr>\n",
       "    <tr>\n",
       "      <th>1346</th>\n",
       "      <td>11.751950</td>\n",
       "    </tr>\n",
       "    <tr>\n",
       "      <th>459</th>\n",
       "      <td>11.894788</td>\n",
       "    </tr>\n",
       "    <tr>\n",
       "      <th>1354</th>\n",
       "      <td>11.418626</td>\n",
       "    </tr>\n",
       "    <tr>\n",
       "      <th>1222</th>\n",
       "      <td>12.323416</td>\n",
       "    </tr>\n",
       "    <tr>\n",
       "      <th>...</th>\n",
       "      <td>...</td>\n",
       "    </tr>\n",
       "    <tr>\n",
       "      <th>763</th>\n",
       "      <td>11.877576</td>\n",
       "    </tr>\n",
       "    <tr>\n",
       "      <th>835</th>\n",
       "      <td>11.786770</td>\n",
       "    </tr>\n",
       "    <tr>\n",
       "      <th>1216</th>\n",
       "      <td>11.775297</td>\n",
       "    </tr>\n",
       "    <tr>\n",
       "      <th>559</th>\n",
       "      <td>11.695255</td>\n",
       "    </tr>\n",
       "    <tr>\n",
       "      <th>684</th>\n",
       "      <td>11.724005</td>\n",
       "    </tr>\n",
       "  </tbody>\n",
       "</table>\n",
       "<p>1005 rows × 1 columns</p>\n",
       "</div>"
      ],
      "text/plain": [
       "      Log_Price\n",
       "811   11.603689\n",
       "1346  11.751950\n",
       "459   11.894788\n",
       "1354  11.418626\n",
       "1222  12.323416\n",
       "...         ...\n",
       "763   11.877576\n",
       "835   11.786770\n",
       "1216  11.775297\n",
       "559   11.695255\n",
       "684   11.724005\n",
       "\n",
       "[1005 rows x 1 columns]"
      ]
     },
     "execution_count": 28,
     "metadata": {},
     "output_type": "execute_result"
    }
   ],
   "source": [
    "y_train"
   ]
  },
  {
   "cell_type": "code",
   "execution_count": 29,
   "id": "e7527b47",
   "metadata": {},
   "outputs": [],
   "source": [
    "# Create a regression object\n",
    "regression = LinearRegression()"
   ]
  },
  {
   "cell_type": "code",
   "execution_count": 30,
   "id": "0916bff2",
   "metadata": {},
   "outputs": [
    {
     "data": {
      "text/plain": [
       "LinearRegression()"
      ]
     },
     "execution_count": 30,
     "metadata": {},
     "output_type": "execute_result"
    }
   ],
   "source": [
    "# Fit the regression object onto the training set\n",
    "\n",
    "regression.fit(X_train_sc, y_train)"
   ]
  },
  {
   "cell_type": "code",
   "execution_count": 31,
   "id": "b9f51f20",
   "metadata": {},
   "outputs": [],
   "source": [
    "# Standardize features for test data (in training dataset)\n",
    "X_var_sc = sc.transform(X_var)"
   ]
  },
  {
   "cell_type": "code",
   "execution_count": 32,
   "id": "320de9fa",
   "metadata": {},
   "outputs": [],
   "source": [
    "# Predict the SalePrice for training dataset\n",
    "y_train_predicted = regression.predict(X_var_sc)"
   ]
  },
  {
   "cell_type": "code",
   "execution_count": 34,
   "id": "f397f49d",
   "metadata": {},
   "outputs": [],
   "source": [
    "# To merge actual SalePrice and predicted value into one dataframe, we need to have them in the same form at the beginning\n",
    "y_actual_numpy = y_var.to_numpy()"
   ]
  },
  {
   "cell_type": "code",
   "execution_count": 36,
   "id": "197f28aa",
   "metadata": {},
   "outputs": [],
   "source": [
    "# Settle actual SalePrice and predicted value into one dataframe to have a better view\n",
    "data_actual_vs_prediction = pd.DataFrame({'Actual': y_actual_numpy.flatten(), 'Predicted': y_train_predicted.flatten()})"
   ]
  },
  {
   "cell_type": "code",
   "execution_count": 37,
   "id": "a0963579",
   "metadata": {},
   "outputs": [],
   "source": [
    "# We don't need the digits agfter decimal\n",
    "pd.set_option(\"display.precision\", 2)"
   ]
  },
  {
   "cell_type": "code",
   "execution_count": 38,
   "id": "32f8982e",
   "metadata": {},
   "outputs": [
    {
     "data": {
      "text/html": [
       "<div>\n",
       "<style scoped>\n",
       "    .dataframe tbody tr th:only-of-type {\n",
       "        vertical-align: middle;\n",
       "    }\n",
       "\n",
       "    .dataframe tbody tr th {\n",
       "        vertical-align: top;\n",
       "    }\n",
       "\n",
       "    .dataframe thead th {\n",
       "        text-align: right;\n",
       "    }\n",
       "</style>\n",
       "<table border=\"1\" class=\"dataframe\">\n",
       "  <thead>\n",
       "    <tr style=\"text-align: right;\">\n",
       "      <th></th>\n",
       "      <th>Actual</th>\n",
       "      <th>Predicted</th>\n",
       "    </tr>\n",
       "  </thead>\n",
       "  <tbody>\n",
       "    <tr>\n",
       "      <th>0</th>\n",
       "      <td>11.61</td>\n",
       "      <td>11.61</td>\n",
       "    </tr>\n",
       "    <tr>\n",
       "      <th>1</th>\n",
       "      <td>12.53</td>\n",
       "      <td>12.44</td>\n",
       "    </tr>\n",
       "    <tr>\n",
       "      <th>2</th>\n",
       "      <td>12.35</td>\n",
       "      <td>12.47</td>\n",
       "    </tr>\n",
       "    <tr>\n",
       "      <th>3</th>\n",
       "      <td>12.04</td>\n",
       "      <td>12.11</td>\n",
       "    </tr>\n",
       "    <tr>\n",
       "      <th>4</th>\n",
       "      <td>12.21</td>\n",
       "      <td>12.21</td>\n",
       "    </tr>\n",
       "    <tr>\n",
       "      <th>...</th>\n",
       "      <td>...</td>\n",
       "      <td>...</td>\n",
       "    </tr>\n",
       "    <tr>\n",
       "      <th>427</th>\n",
       "      <td>12.04</td>\n",
       "      <td>11.94</td>\n",
       "    </tr>\n",
       "    <tr>\n",
       "      <th>428</th>\n",
       "      <td>11.91</td>\n",
       "      <td>11.97</td>\n",
       "    </tr>\n",
       "    <tr>\n",
       "      <th>429</th>\n",
       "      <td>12.56</td>\n",
       "      <td>12.79</td>\n",
       "    </tr>\n",
       "    <tr>\n",
       "      <th>430</th>\n",
       "      <td>11.92</td>\n",
       "      <td>11.88</td>\n",
       "    </tr>\n",
       "    <tr>\n",
       "      <th>431</th>\n",
       "      <td>11.79</td>\n",
       "      <td>11.82</td>\n",
       "    </tr>\n",
       "  </tbody>\n",
       "</table>\n",
       "<p>432 rows × 2 columns</p>\n",
       "</div>"
      ],
      "text/plain": [
       "     Actual  Predicted\n",
       "0     11.61      11.61\n",
       "1     12.53      12.44\n",
       "2     12.35      12.47\n",
       "3     12.04      12.11\n",
       "4     12.21      12.21\n",
       "..      ...        ...\n",
       "427   12.04      11.94\n",
       "428   11.91      11.97\n",
       "429   12.56      12.79\n",
       "430   11.92      11.88\n",
       "431   11.79      11.82\n",
       "\n",
       "[432 rows x 2 columns]"
      ]
     },
     "execution_count": 38,
     "metadata": {},
     "output_type": "execute_result"
    }
   ],
   "source": [
    "data_actual_vs_prediction"
   ]
  },
  {
   "cell_type": "markdown",
   "id": "ca41a4af",
   "metadata": {},
   "source": [
    "From the table above, we can see that our prediction is close to the actual value but still with some value distance. How good have we predicted the SalePrice is difficult to know from the table directly, so we need Mean Sqaure Error and R2 score to help us anlayze the result. "
   ]
  },
  {
   "cell_type": "code",
   "execution_count": 56,
   "id": "ffb76be5",
   "metadata": {},
   "outputs": [],
   "source": [
    "AP = np.exp(y_actual_numpy)\n",
    "PP = np.exp(y_train_predicted)"
   ]
  },
  {
   "cell_type": "code",
   "execution_count": 69,
   "id": "3e097e8f",
   "metadata": {},
   "outputs": [],
   "source": [
    "# Mean squared error/ r2 score\n",
    "rmse = mean_squared_error(AP, PP)\n",
    "r2 = r2_score(AP, PP)"
   ]
  },
  {
   "cell_type": "code",
   "execution_count": 70,
   "id": "672239fa",
   "metadata": {},
   "outputs": [
    {
     "name": "stdout",
     "output_type": "stream",
     "text": [
      "Mean squared error: 652787748.2109582\n",
      "R2 score: 0.9003408890443647\n"
     ]
    }
   ],
   "source": [
    "print('Mean squared error:', rmse)\n",
    "print('R2 score:', r2)"
   ]
  },
  {
   "cell_type": "code",
   "execution_count": 71,
   "id": "673c28a3",
   "metadata": {},
   "outputs": [],
   "source": [
    "data_actual_vs_prediction.loc[:, 'Actual Price'] = AP\n",
    "data_actual_vs_prediction.loc[:, 'Predicted Price'] = PP"
   ]
  },
  {
   "cell_type": "code",
   "execution_count": 72,
   "id": "684d9897",
   "metadata": {},
   "outputs": [
    {
     "data": {
      "text/html": [
       "<div>\n",
       "<style scoped>\n",
       "    .dataframe tbody tr th:only-of-type {\n",
       "        vertical-align: middle;\n",
       "    }\n",
       "\n",
       "    .dataframe tbody tr th {\n",
       "        vertical-align: top;\n",
       "    }\n",
       "\n",
       "    .dataframe thead th {\n",
       "        text-align: right;\n",
       "    }\n",
       "</style>\n",
       "<table border=\"1\" class=\"dataframe\">\n",
       "  <thead>\n",
       "    <tr style=\"text-align: right;\">\n",
       "      <th></th>\n",
       "      <th>Actual</th>\n",
       "      <th>Predicted</th>\n",
       "      <th>Actual Price</th>\n",
       "      <th>Predicted Price</th>\n",
       "    </tr>\n",
       "  </thead>\n",
       "  <tbody>\n",
       "    <tr>\n",
       "      <th>0</th>\n",
       "      <td>11.61</td>\n",
       "      <td>11.61</td>\n",
       "      <td>110001.0</td>\n",
       "      <td>110454.47</td>\n",
       "    </tr>\n",
       "    <tr>\n",
       "      <th>1</th>\n",
       "      <td>12.53</td>\n",
       "      <td>12.44</td>\n",
       "      <td>277501.0</td>\n",
       "      <td>253653.48</td>\n",
       "    </tr>\n",
       "    <tr>\n",
       "      <th>2</th>\n",
       "      <td>12.35</td>\n",
       "      <td>12.47</td>\n",
       "      <td>232001.0</td>\n",
       "      <td>260864.40</td>\n",
       "    </tr>\n",
       "    <tr>\n",
       "      <th>3</th>\n",
       "      <td>12.04</td>\n",
       "      <td>12.11</td>\n",
       "      <td>170001.0</td>\n",
       "      <td>181298.10</td>\n",
       "    </tr>\n",
       "    <tr>\n",
       "      <th>4</th>\n",
       "      <td>12.21</td>\n",
       "      <td>12.21</td>\n",
       "      <td>200625.0</td>\n",
       "      <td>201076.39</td>\n",
       "    </tr>\n",
       "  </tbody>\n",
       "</table>\n",
       "</div>"
      ],
      "text/plain": [
       "   Actual  Predicted  Actual Price  Predicted Price\n",
       "0   11.61      11.61      110001.0        110454.47\n",
       "1   12.53      12.44      277501.0        253653.48\n",
       "2   12.35      12.47      232001.0        260864.40\n",
       "3   12.04      12.11      170001.0        181298.10\n",
       "4   12.21      12.21      200625.0        201076.39"
      ]
     },
     "execution_count": 72,
     "metadata": {},
     "output_type": "execute_result"
    }
   ],
   "source": [
    "data_actual_vs_prediction.head()"
   ]
  },
  {
   "cell_type": "code",
   "execution_count": 73,
   "id": "818eb60e",
   "metadata": {},
   "outputs": [
    {
     "data": {
      "text/plain": [
       "(432, 4)"
      ]
     },
     "execution_count": 73,
     "metadata": {},
     "output_type": "execute_result"
    }
   ],
   "source": [
    "data_actual_vs_prediction.shape"
   ]
  },
  {
   "cell_type": "code",
   "execution_count": 74,
   "id": "23433deb",
   "metadata": {},
   "outputs": [],
   "source": [
    "data_actual_vs_prediction_1 = data_actual_vs_prediction[(data_actual_vs_prediction['Actual Price'] < 500000)]"
   ]
  },
  {
   "cell_type": "code",
   "execution_count": 75,
   "id": "905d6a35",
   "metadata": {},
   "outputs": [
    {
     "data": {
      "text/plain": [
       "(430, 4)"
      ]
     },
     "execution_count": 75,
     "metadata": {},
     "output_type": "execute_result"
    }
   ],
   "source": [
    "data_actual_vs_prediction_1.shape"
   ]
  },
  {
   "cell_type": "code",
   "execution_count": 76,
   "id": "e81ee784",
   "metadata": {},
   "outputs": [
    {
     "data": {
      "text/plain": [
       "count       430.00\n",
       "mean     182581.62\n",
       "std       73916.95\n",
       "min       35312.00\n",
       "25%      131001.00\n",
       "50%      162701.00\n",
       "75%      222001.00\n",
       "max      475001.00\n",
       "Name: Actual Price, dtype: float64"
      ]
     },
     "execution_count": 76,
     "metadata": {},
     "output_type": "execute_result"
    }
   ],
   "source": [
    "data_actual_vs_prediction_1['Actual Price'].describe()"
   ]
  },
  {
   "cell_type": "code",
   "execution_count": 77,
   "id": "ed9154bf",
   "metadata": {},
   "outputs": [
    {
     "data": {
      "text/plain": [
       "0.053788752675307284"
      ]
     },
     "execution_count": 77,
     "metadata": {},
     "output_type": "execute_result"
    }
   ],
   "source": [
    "import math\n",
    "math.sqrt(652787748)/475001"
   ]
  },
  {
   "cell_type": "markdown",
   "id": "323bdf8c",
   "metadata": {},
   "source": [
    "We have small RMSE (5.3% max. price), which means the data points are close to our regression line. \n",
    "\n",
    "Moreover, we have R2 score 0.9. The larger the R2 score is (close to 1), the more precise is our prediction. It is obvious that we still need to improve the prediction model and reduce the error in the future. "
   ]
  },
  {
   "cell_type": "code",
   "execution_count": 78,
   "id": "155257fb",
   "metadata": {},
   "outputs": [],
   "source": [
    "X_test_sc = sc.transform(df_test1)"
   ]
  },
  {
   "cell_type": "code",
   "execution_count": 79,
   "id": "a4ec6814",
   "metadata": {},
   "outputs": [
    {
     "data": {
      "text/plain": [
       "array([[-1.21822873, -0.99803936, -0.38423583, ...,  0.20024589,\n",
       "         0.34116852, -0.55432289],\n",
       "       [-0.33928647, -0.99803936,  0.71778089, ...,  0.20024589,\n",
       "         0.44030336, -0.55432289],\n",
       "       [ 0.26968045,  0.36107928, -0.27082919, ...,  0.20024589,\n",
       "        -0.84844954, -0.5128261 ],\n",
       "       ...,\n",
       "       [-0.5524249 ,  0.36107928,  0.4589179 , ..., -3.42582829,\n",
       "         0.37421346,  0.93956182],\n",
       "       [-1.06801689, -2.357158  , -0.31027498, ...,  0.20024589,\n",
       "        -0.68322481, -0.55432289],\n",
       "       [ 1.02276954,  1.72019792, -0.10318459, ...,  0.20024589,\n",
       "        -0.71626976, -0.5128261 ]])"
      ]
     },
     "execution_count": 79,
     "metadata": {},
     "output_type": "execute_result"
    }
   ],
   "source": [
    "# Check our target data\n",
    "X_test_sc"
   ]
  },
  {
   "cell_type": "code",
   "execution_count": 80,
   "id": "0c8516c2",
   "metadata": {},
   "outputs": [],
   "source": [
    "# Predict the SalePrice for test data\n",
    "y_test_predicted = regression.predict(X_test_sc)"
   ]
  },
  {
   "cell_type": "code",
   "execution_count": 81,
   "id": "6b122f98",
   "metadata": {},
   "outputs": [
    {
     "data": {
      "text/plain": [
       "array([[11.618853  ],\n",
       "       [11.99541337],\n",
       "       [12.05305616],\n",
       "       ...,\n",
       "       [11.87260583],\n",
       "       [11.73870597],\n",
       "       [12.37279009]])"
      ]
     },
     "execution_count": 81,
     "metadata": {},
     "output_type": "execute_result"
    }
   ],
   "source": [
    "y_test_predicted"
   ]
  },
  {
   "cell_type": "code",
   "execution_count": 82,
   "id": "373f6429",
   "metadata": {},
   "outputs": [
    {
     "data": {
      "text/html": [
       "<div>\n",
       "<style scoped>\n",
       "    .dataframe tbody tr th:only-of-type {\n",
       "        vertical-align: middle;\n",
       "    }\n",
       "\n",
       "    .dataframe tbody tr th {\n",
       "        vertical-align: top;\n",
       "    }\n",
       "\n",
       "    .dataframe thead th {\n",
       "        text-align: right;\n",
       "    }\n",
       "</style>\n",
       "<table border=\"1\" class=\"dataframe\">\n",
       "  <thead>\n",
       "    <tr style=\"text-align: right;\">\n",
       "      <th></th>\n",
       "      <th>Log_Price</th>\n",
       "    </tr>\n",
       "  </thead>\n",
       "  <tbody>\n",
       "    <tr>\n",
       "      <th>0</th>\n",
       "      <td>11.62</td>\n",
       "    </tr>\n",
       "    <tr>\n",
       "      <th>1</th>\n",
       "      <td>12.00</td>\n",
       "    </tr>\n",
       "    <tr>\n",
       "      <th>2</th>\n",
       "      <td>12.05</td>\n",
       "    </tr>\n",
       "    <tr>\n",
       "      <th>3</th>\n",
       "      <td>12.17</td>\n",
       "    </tr>\n",
       "    <tr>\n",
       "      <th>4</th>\n",
       "      <td>12.19</td>\n",
       "    </tr>\n",
       "  </tbody>\n",
       "</table>\n",
       "</div>"
      ],
      "text/plain": [
       "   Log_Price\n",
       "0      11.62\n",
       "1      12.00\n",
       "2      12.05\n",
       "3      12.17\n",
       "4      12.19"
      ]
     },
     "execution_count": 82,
     "metadata": {},
     "output_type": "execute_result"
    }
   ],
   "source": [
    "# Create a dataframe to have a better view\n",
    "data = pd.DataFrame({'Log_Price': y_test_predicted.flatten()})\n",
    "data.head()"
   ]
  },
  {
   "cell_type": "code",
   "execution_count": 83,
   "id": "6831a917",
   "metadata": {},
   "outputs": [
    {
     "data": {
      "text/plain": [
       "(1435, 1)"
      ]
     },
     "execution_count": 83,
     "metadata": {},
     "output_type": "execute_result"
    }
   ],
   "source": [
    "data.shape"
   ]
  },
  {
   "cell_type": "code",
   "execution_count": 84,
   "id": "26431d55",
   "metadata": {},
   "outputs": [],
   "source": [
    "# To identify the SalePrice, we create a number list \n",
    "ld = [i for i in range(1,1436)]"
   ]
  },
  {
   "cell_type": "code",
   "execution_count": 85,
   "id": "601be346",
   "metadata": {},
   "outputs": [],
   "source": [
    "# The list needs to be changed to array, so they we can put it into the dataframe of SalePrice conveniently\n",
    "arr = np.array(ld)"
   ]
  },
  {
   "cell_type": "code",
   "execution_count": 86,
   "id": "ef04daeb",
   "metadata": {},
   "outputs": [
    {
     "data": {
      "text/plain": [
       "array([   1,    2,    3, ..., 1433, 1434, 1435])"
      ]
     },
     "execution_count": 86,
     "metadata": {},
     "output_type": "execute_result"
    }
   ],
   "source": [
    "arr"
   ]
  },
  {
   "cell_type": "code",
   "execution_count": 87,
   "id": "1e29bca0",
   "metadata": {},
   "outputs": [
    {
     "data": {
      "text/plain": [
       "array([[11.618853  ],\n",
       "       [11.99541337],\n",
       "       [12.05305616],\n",
       "       ...,\n",
       "       [11.87260583],\n",
       "       [11.73870597],\n",
       "       [12.37279009]])"
      ]
     },
     "execution_count": 87,
     "metadata": {},
     "output_type": "execute_result"
    }
   ],
   "source": [
    "y_test_predicted"
   ]
  },
  {
   "cell_type": "code",
   "execution_count": 88,
   "id": "83f02873",
   "metadata": {},
   "outputs": [],
   "source": [
    "Price = np.exp(y_test_predicted)"
   ]
  },
  {
   "cell_type": "code",
   "execution_count": 89,
   "id": "ee70b173",
   "metadata": {},
   "outputs": [],
   "source": [
    "# The dataframe we want to submiss\n",
    "data_submission = pd.DataFrame({'Id': arr.flatten(), 'Price':Price.flatten()})"
   ]
  },
  {
   "cell_type": "code",
   "execution_count": 90,
   "id": "85ea11e7",
   "metadata": {},
   "outputs": [
    {
     "data": {
      "text/html": [
       "<div>\n",
       "<style scoped>\n",
       "    .dataframe tbody tr th:only-of-type {\n",
       "        vertical-align: middle;\n",
       "    }\n",
       "\n",
       "    .dataframe tbody tr th {\n",
       "        vertical-align: top;\n",
       "    }\n",
       "\n",
       "    .dataframe thead th {\n",
       "        text-align: right;\n",
       "    }\n",
       "</style>\n",
       "<table border=\"1\" class=\"dataframe\">\n",
       "  <thead>\n",
       "    <tr style=\"text-align: right;\">\n",
       "      <th></th>\n",
       "      <th>Id</th>\n",
       "      <th>Price</th>\n",
       "    </tr>\n",
       "  </thead>\n",
       "  <tbody>\n",
       "    <tr>\n",
       "      <th>0</th>\n",
       "      <td>1</td>\n",
       "      <td>111174.13</td>\n",
       "    </tr>\n",
       "    <tr>\n",
       "      <th>1</th>\n",
       "      <td>2</td>\n",
       "      <td>162010.01</td>\n",
       "    </tr>\n",
       "    <tr>\n",
       "      <th>2</th>\n",
       "      <td>3</td>\n",
       "      <td>171623.12</td>\n",
       "    </tr>\n",
       "    <tr>\n",
       "      <th>3</th>\n",
       "      <td>4</td>\n",
       "      <td>193213.15</td>\n",
       "    </tr>\n",
       "    <tr>\n",
       "      <th>4</th>\n",
       "      <td>5</td>\n",
       "      <td>196527.30</td>\n",
       "    </tr>\n",
       "  </tbody>\n",
       "</table>\n",
       "</div>"
      ],
      "text/plain": [
       "   Id      Price\n",
       "0   1  111174.13\n",
       "1   2  162010.01\n",
       "2   3  171623.12\n",
       "3   4  193213.15\n",
       "4   5  196527.30"
      ]
     },
     "execution_count": 90,
     "metadata": {},
     "output_type": "execute_result"
    }
   ],
   "source": [
    "data_submission.head()"
   ]
  },
  {
   "cell_type": "markdown",
   "id": "4e7fc86f",
   "metadata": {},
   "source": [
    "Since we have used training dataset to test the model and have a 89% accuracy, we can predict SalePrice close to the real value. However, there is bias that could have impact on the regression: \n",
    "\n",
    "* We have selected the categorical data by histogram and box plot observation. This is subjective and could result to the removal of critical features.\n",
    "\n",
    "* We didn't investiagte the correlation and variance of categorical data and might not have selected the most critical ones like for numerical data, whch might result to bias. \n"
   ]
  },
  {
   "cell_type": "code",
   "execution_count": 91,
   "id": "71a39f11",
   "metadata": {},
   "outputs": [],
   "source": [
    "# Export data\n",
    "data_submission.to_csv(os.path.join(path, 'data_submission.csv'))"
   ]
  },
  {
   "cell_type": "code",
   "execution_count": 92,
   "id": "4086fdcc",
   "metadata": {},
   "outputs": [],
   "source": [
    "data_actual_vs_prediction_1.to_csv(os.path.join(path, 'data_actual_vs_prediction.csv'))"
   ]
  }
 ],
 "metadata": {
  "kernelspec": {
   "display_name": "Python 3 (ipykernel)",
   "language": "python",
   "name": "python3"
  },
  "language_info": {
   "codemirror_mode": {
    "name": "ipython",
    "version": 3
   },
   "file_extension": ".py",
   "mimetype": "text/x-python",
   "name": "python",
   "nbconvert_exporter": "python",
   "pygments_lexer": "ipython3",
   "version": "3.9.7"
  }
 },
 "nbformat": 4,
 "nbformat_minor": 5
}
